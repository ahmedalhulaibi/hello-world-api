{
 "cells": [
  {
   "cell_type": "markdown",
   "metadata": {},
   "source": [
    "# K6 Tests\n",
    "\n",
    "Aside from unit and integration tests that may be defined within the language specific sub-directories, all features should have a Gherkin/BDD style test defined in `tests/k6/features.js`\n",
    "\n",
    "These tests will serve multiple purposes including\n",
    "- Documentation of behavioural scenarios\n",
    "- Regression testing\n",
    "- Smoke testing\n",
    "- Load testing\n",
    "- Stress testing"
   ]
  },
  {
   "cell_type": "markdown",
   "metadata": {},
   "source": [
    "## Running K6 tests\n",
    "\n",
    "To quickly get started run the command below."
   ]
  },
  {
   "cell_type": "code",
   "execution_count": null,
   "metadata": {},
   "outputs": [],
   "source": [
    "! cd ..; make run smoke-test"
   ]
  },
  {
   "cell_type": "markdown",
   "metadata": {},
   "source": [
    "## K6 Environment Variables\n",
    "There are a few environment variable inputs that you should know which are defined in `makefiles/k6`\n",
    "\n",
    "### K6_HTTP_BASE_URL\n",
    "\n",
    "`K6_HTTP_BASE_URL ?= http://localhost:8080`\n",
    "\n",
    "The base URL to test against, you will likely have to change this if you are running in run mode aka `make run`\n",
    "\n",
    "### K6_FEATURES\n",
    "`K6_FEATURES=\"Meme feed:Browse memes authenticated;\"`\n",
    "\n",
    "A list of features and scenarios to run. The names must match `tests/k6/features.js`.\n",
    "\n",
    "Syntax is \"Feature Name:Scenario Name,Scenario Name;Feature Name;\"\n",
    "\n",
    "Leave undefined to run all tests\n",
    "\n",
    "### K6_TEST\n",
    "`K6_TEST ?= $(K6_TESTS_PATH)/load.js`\n",
    "\n",
    "This is a path to the test file to run. It can be overridden but that should not be necessary.\n",
    "\n",
    "### K6_TEST_PROFILE\n",
    "\n",
    "There are few make targets predefined for running tests with K6 which automatically load profiles\n",
    "- `make smoke-test`\n",
    "- `make load-test`\n",
    "- `make stress-test`\n",
    "- `make soak-test`\n",
    "\n",
    "If you define a new profile in `test/k6/profiles.js`, you can use K6_TEST_PROFILE to override it and run your tests with any of the above commands."
   ]
  },
  {
   "cell_type": "markdown",
   "metadata": {},
   "source": [
    "## Profiles - test/k6/profiles.js\n",
    "\n",
    "Load profiles define how the test will be run. Each key in the profiles object represents a load profile. See https://k6.io/docs/using-k6/options/ for all the available options per load profile."
   ]
  },
  {
   "cell_type": "markdown",
   "metadata": {},
   "source": [
    "## Checks - test/k6/checks.js\n",
    "\n",
    "These are test assertions. Feel free to add more as needed"
   ]
  },
  {
   "cell_type": "markdown",
   "metadata": {},
   "source": [
    "## Gherkin helper functions - test/k6/bdd.js\n",
    "\n",
    "Some helper functions for grouping sets of instructions into Gherkin keywords when outputting.\n",
    "\n",
    "See https://cucumber.io/docs/gherkin/reference/ for Gherkin specification reference."
   ]
  },
  {
   "cell_type": "markdown",
   "metadata": {},
   "source": [
    "## Feature - test/k6/features.js\n",
    "\n",
    "As mentioned each test is organized in an object with the following structure.\n",
    "\n",
    "Feature->Scenario->Function\n",
    "\n",
    "All new features and/or scenarios should have a test defined and/or modified as needed."
   ]
  }
 ],
 "metadata": {
  "interpreter": {
   "hash": "aee8b7b246df8f9039afb4144a1f6fd8d2ca17a180786b69acc140d282b71a49"
  },
  "kernelspec": {
   "display_name": "Python 3.9.7 64-bit",
   "language": "python",
   "name": "python3"
  },
  "language_info": {
   "codemirror_mode": {
    "name": "ipython",
    "version": 3
   },
   "file_extension": ".py",
   "mimetype": "text/x-python",
   "name": "python",
   "nbconvert_exporter": "python",
   "pygments_lexer": "ipython3",
   "version": "3.8.10"
  },
  "orig_nbformat": 4
 },
 "nbformat": 4,
 "nbformat_minor": 2
}
