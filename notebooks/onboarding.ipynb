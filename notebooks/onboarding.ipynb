{
 "cells": [
  {
   "cell_type": "markdown",
   "metadata": {},
   "source": [
    "# Getting Started\n",
    "\n",
    "At minimum it is expected that your development environment includes:\n",
    "\n",
    "- Unix/Linux shell\n",
    "- Make (typically already installed)\n",
    "- Docker\n",
    "- Go (can be installed using vs code)\n",
    "- Python 3 (can be installed using vs code)\n",
    "\n",
    "Most other tools are installed automatically when invoking `make` targets. These tools will be installed in the `bin` subdirectory in the root of this repo aka `hello-world-api/bin`.\n",
    "\n",
    "\n",
    "\n"
   ]
  },
  {
   "cell_type": "markdown",
   "metadata": {},
   "source": [
    "## Prerequisites\n",
    "\n",
    "In the repo root directory it is expected that you have a private ssh key which can be used to fetch private dependencies from GitHub over ssh `hello-world-api/.ssh/id_rsa`\n",
    "\n",
    "If this file does not exist you may not be able to build code that relies on private dependencies. The `make` scripts will try to create this for you by copying your ssh key from `$HOME/.ssh/id_rsa`"
   ]
  },
  {
   "cell_type": "markdown",
   "metadata": {},
   "source": [
    "# Jupyter Notebooks\n",
    "\n",
    "It is recommended that you use VS Code when working with this repo and install the Jupyter Notebooks extension to run these notebooks."
   ]
  },
  {
   "cell_type": "code",
   "execution_count": null,
   "metadata": {},
   "outputs": [],
   "source": [
    "# Run this before any other cells\n",
    "import subprocess\n",
    "import os\n",
    "import signal\n",
    "\n",
    "def run_command(cmd, capture_output=True):\n",
    "    print(cmd)\n",
    "    return subprocess.run(cmd, shell=True, capture_output=capture_output)\n",
    "\n",
    "def cleanup(cmdstdout):\n",
    "    for pid in cmdstdout.stdout.decode('utf-8').split('\\n'):\n",
    "        if pid:\n",
    "            print(f'Interrupting process {pid}')\n",
    "            try:\n",
    "                os.kill(int(pid), signal.SIGINT) #or signal.SIGKILL\n",
    "            except:\n",
    "                pass\n",
    "            finally:\n",
    "                pass"
   ]
  },
  {
   "cell_type": "markdown",
   "metadata": {},
   "source": [
    "## Development Environment\n",
    "\n",
    "The below command will create a local kubernetes cluster for you using k3d. This will be your development environment."
   ]
  },
  {
   "cell_type": "code",
   "execution_count": null,
   "metadata": {},
   "outputs": [],
   "source": [
    "%%capture\n",
    "# The above line discards shell output in the notebook so that it is not committed to the repo. Feel free to comment it out to view the output.\n",
    "# The below command will create a local kubernetes cluster for you using k3d. \n",
    "# This will be your development environment.\n",
    "! cd .. && make bootstrap"
   ]
  },
  {
   "cell_type": "markdown",
   "metadata": {},
   "source": [
    "### Database\n",
    "\n",
    "To connect to a local database, you can forward a port from the cluster to localhost"
   ]
  },
  {
   "cell_type": "code",
   "execution_count": null,
   "metadata": {},
   "outputs": [],
   "source": [
    "\n",
    "run_command(\"cd .. && kubectl port-forward deployment/postgres 5432:5432 &\", capture_output=False)"
   ]
  },
  {
   "cell_type": "markdown",
   "metadata": {},
   "source": [
    "Use the below command to disable port-forwarding"
   ]
  },
  {
   "cell_type": "code",
   "execution_count": null,
   "metadata": {},
   "outputs": [],
   "source": [
    "cleanup(run_command(\"ps -a -x | grep 'kubectl port-forward deployment/postgres 5432:5432' | grep -E -o '^\\s?[0-9]+\\s'\"))"
   ]
  },
  {
   "cell_type": "markdown",
   "metadata": {},
   "source": [
    "### Deploying Locally\n",
    "\n",
    "Once the environment is bootstrapped, you should be able to deploy the service using skaffold."
   ]
  },
  {
   "cell_type": "markdown",
   "metadata": {},
   "source": [
    "\n",
    "#### Run Mode\n",
    "\n",
    "If you just want to run the stack locally and you have no intention to debug or actively change code, use `make run` or `make run-skaffold`\n",
    "\n",
    "This will expose the services on the route `http://localhost:8081/hello-world-api/api/1`"
   ]
  },
  {
   "cell_type": "code",
   "execution_count": null,
   "metadata": {},
   "outputs": [],
   "source": [
    "%%capture \n",
    "# The above line discards shell output in the notebook so that it is not committed to the repo. Feel free to comment it out to view the output.\n",
    "! cd .. && make run"
   ]
  },
  {
   "cell_type": "markdown",
   "metadata": {},
   "source": [
    "#### Dev Mode\n",
    "\n",
    "If you intend to actively change code, and want hot reloading use `make dev`. This will deploy the same code but with hot reloading. As you edit and save your code, skaffold will replace the relevant docker layers in the running container. (Warning: This does not always work and your container may not restart).\n",
    "\n",
    "While in dev mode, skaffold will automatically forward ports to localhost for the relevant services so that you can immediately send requests to the services."
   ]
  },
  {
   "cell_type": "code",
   "execution_count": null,
   "metadata": {},
   "outputs": [],
   "source": [
    "%%capture\n",
    "run_command(\"cd .. && make dev &\", capture_output=False)"
   ]
  },
  {
   "cell_type": "markdown",
   "metadata": {},
   "source": [
    "Use the below command to kill the skaffold dev process"
   ]
  },
  {
   "cell_type": "code",
   "execution_count": null,
   "metadata": {},
   "outputs": [],
   "source": [
    "cleanup(run_command(\"ps -a -x | grep 'skaffold dev' | grep -E -o '^\\s?[0-9]+\\s'\"))\n",
    "run_command(\"cd .. && make clean-skaffold\")"
   ]
  },
  {
   "cell_type": "markdown",
   "metadata": {},
   "source": [
    "#### Debug Mode\n",
    "\n",
    "If you need to debug a service while it is running, you can use `make debug`. This will deploy the same code with a debug server exposed. See `infra/k8s/overlays/debug` to find the exposed port and yaml definitions.\n",
    "\n",
    "In the case of the Go app, this will build a different image `go/Dockerfile.dbg` with delve built in and expose port 2345.\n",
    "\n",
    "While in debug mode, skaffold will automatically forward ports to localhost for the relevant services and the debug port so that you can immediately send requests to the services."
   ]
  },
  {
   "cell_type": "code",
   "execution_count": null,
   "metadata": {},
   "outputs": [],
   "source": [
    "%%capture\n",
    "run_command(\"cd .. && make debug &\", capture_output=False)"
   ]
  },
  {
   "cell_type": "markdown",
   "metadata": {},
   "source": [
    "Use the below command to kill the skaffold dev process"
   ]
  },
  {
   "cell_type": "code",
   "execution_count": null,
   "metadata": {},
   "outputs": [],
   "source": [
    "cleanup(run_command(\"ps -a -x | grep 'skaffold debug' | grep -E -o '^\\s?[0-9]+\\s'\"))\n",
    "run_command(\"cd .. && make clean-skaffold\")"
   ]
  },
  {
   "cell_type": "markdown",
   "metadata": {},
   "source": [
    "# Directories"
   ]
  },
  {
   "cell_type": "markdown",
   "metadata": {},
   "source": [
    "## notebooks/\n",
    "\n",
    "This directory stores interactive notebooks for documentation and other useful purposes. Some use cases\n",
    "\n",
    "- Onboarding\n",
    "- System Architecture Diagrams\n",
    "- Runbooks for testing or incidents\n",
    "- Gherkin Feature Specification\n",
    "\n",
    "## bin/\n",
    "\n",
    "Executables for the local development environment are installed in the `bin` directory. This directory should not be managed manually as the makefiles may overwrite it and it is deliberately ignored in this repo.\n",
    "\n",
    "## config/\n",
    "\n",
    "Configuration files for services are defined in the `config` directory.\n",
    "\n",
    "## gen/\n",
    "\n",
    "This directory contains generated documentation for the API including a swagger specification generated from the protocol buffer specifications and markdown documents. The files in this directory should not be manually altered as they will be overwritten if docs are regenerated.\n",
    "\n",
    "## go/\n",
    "\n",
    "All Go source code lives in the `go` directory including dockerfiles for Go artifacts\n",
    "\n",
    "## infra/\n",
    "\n",
    "Most of the infrastructure related scripts and configuration lives in the `infra` directory. The exception is `skaffold.yaml` which is in the root directory.\n",
    "\n",
    "## makefiles/\n",
    "\n",
    "This directory defines makefiles and targets for CI/CD orchestration, primarily in a local dev environment.\n",
    "\n",
    "## proto/\n",
    "\n",
    "This is the source of truth for our API specifications. All APIs are defined using protocol buffers and live in the `proto` directory. Any new APIs should be defined in protobuf *first*. Code generators will automatically pull the spec from this directory.\n",
    "\n",
    "\n",
    "## test/k6\n",
    "\n",
    "This directory contains source code for K6 tests. These tests are intended to run as smoke, load, stress and/or soak tests. These are blackbox tests and are agnostic of the backend application stack. They can be written as HTTP tests or gRPC tests."
   ]
  },
  {
   "cell_type": "markdown",
   "metadata": {},
   "source": [
    "# hello-world-api Domains\n",
    "\n",
    "There is one API documented in the `proto` directory using Protocol Buffers.\n",
    "\n",
    "- Hello World API"
   ]
  }
 ],
 "metadata": {
  "interpreter": {
   "hash": "916dbcbb3f70747c44a77c7bcd40155683ae19c65e1c03b4aa3499c5328201f1"
  },
  "kernelspec": {
   "display_name": "Python 3.8.10 64-bit",
   "name": "python3"
  },
  "language_info": {
   "codemirror_mode": {
    "name": "ipython",
    "version": 3
   },
   "file_extension": ".py",
   "mimetype": "text/x-python",
   "name": "python",
   "nbconvert_exporter": "python",
   "pygments_lexer": "ipython3",
   "version": "3.8.10"
  },
  "orig_nbformat": 4
 },
 "nbformat": 4,
 "nbformat_minor": 2
}
