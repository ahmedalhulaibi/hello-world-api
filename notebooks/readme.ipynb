{
 "cells": [
  {
   "cell_type": "markdown",
   "metadata": {},
   "source": [
    "# What is this?\n",
    "\n",
    "This is an interactive notebook that can be used for documentation and embedding code snippets for reusability.\n",
    "\n",
    "Notebooks are integrated into VS Code. Cells can be `Code` cells or `Markdown` cells. `Code` cells are interactive and can be run in the context of the notebook. You can use them to query APIs, databases, produce graphs and so on.\n",
    "\n",
    "When prompted, install the IPython kernel and/or Jupyter Notebooks extension so that you can run the notebooks.\n",
    "\n",
    "Run the code cell below to try it out!"
   ]
  },
  {
   "cell_type": "code",
   "execution_count": null,
   "metadata": {},
   "outputs": [],
   "source": [
    "! echo \"Hello World\""
   ]
  }
 ],
 "metadata": {
  "interpreter": {
   "hash": "aee8b7b246df8f9039afb4144a1f6fd8d2ca17a180786b69acc140d282b71a49"
  },
  "kernelspec": {
   "display_name": "Python 3.9.7 64-bit",
   "language": "python",
   "name": "python3"
  },
  "language_info": {
   "codemirror_mode": {
    "name": "ipython",
    "version": 3
   },
   "file_extension": ".py",
   "mimetype": "text/x-python",
   "name": "python",
   "nbconvert_exporter": "python",
   "pygments_lexer": "ipython3",
   "version": "3.9.7"
  },
  "orig_nbformat": 4
 },
 "nbformat": 4,
 "nbformat_minor": 2
}
